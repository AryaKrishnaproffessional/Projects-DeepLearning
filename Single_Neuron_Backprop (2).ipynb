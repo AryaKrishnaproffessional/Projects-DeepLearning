{
 "cells": [
  {
   "cell_type": "markdown",
   "id": "24af3eaa-57a0-4ca2-8e8c-91d073285a95",
   "metadata": {},
   "source": [
    "# Single Neuron Backpropogation using Sigmoid #"
   ]
  },
  {
   "cell_type": "code",
   "execution_count": 34,
   "id": "76b8c9f7-a0e5-41ca-9e92-b4784cfaf63b",
   "metadata": {},
   "outputs": [
    {
     "name": "stdout",
     "output_type": "stream",
     "text": [
      "[0.425557483188341]\n",
      "[1 0 0]\n",
      "gradient_weight [-0.2808545  -0.56170899]\n",
      "[0.425557483188341, 0.5]\n",
      "[1 0 0]\n",
      "gradient_weight [ 0.2191455  -0.31170899]\n",
      "[0.425557483188341, 0.5, 0.574442516811659]\n",
      "[1 0 0]\n",
      "gradient_weight [-0.06170899 -0.87341798]\n",
      "[0.4383038875560721]\n",
      "[1 0 0]\n",
      "gradient_weight [-0.27657196 -0.55314393]\n",
      "[0.4383038875560721, 0.5062233116446542]\n",
      "[1 0 0]\n",
      "gradient_weight [ 0.22957292 -0.30007148]\n",
      "[0.4383038875560721, 0.5062233116446542, 0.5575887575621814]\n",
      "[1 0 0]\n",
      "gradient_weight [-0.04552301 -0.85026335]\n"
     ]
    },
    {
     "data": {
      "text/plain": [
       "(array([ 0.1036, -0.1425]), -0.0167, [0.3033, 0.2942])"
      ]
     },
     "execution_count": 34,
     "metadata": {},
     "output_type": "execute_result"
    }
   ],
   "source": [
    "import numpy as np\n",
    "import math \n",
    "def sigmoid(z: float) -> float: \n",
    "    result = 1/(1+ math.exp(-z)) \n",
    "    return result \n",
    "\n",
    "def sigmoid_gradient(z: float) -> float: \n",
    "    s = sigmoid(z)\n",
    "    return s * (1 - s)  \n",
    "\n",
    "def train_neuron(features: np.ndarray, labels: np.ndarray, initial_weights: np.ndarray, initial_bias: float, learning_rate: float, epochs: int) -> (np.ndarray, float, list[float]):\n",
    "    weights = initial_weights.copy()\n",
    "    bias = initial_bias\n",
    "    mse_values = []\n",
    "    for epoch in range(epochs):\n",
    "        probabilities = []\n",
    "        gradient_bias = 0\n",
    "        gradient_weight = np.zeros_like(weights)\n",
    "        for i in range(len(features)):\n",
    "            weighted_sum = np.dot(features[i],weights) + bias\n",
    "            probabilities.append(sigmoid(weighted_sum)) \n",
    "            error = 2 * (sigmoid(weighted_sum) - labels[i])\n",
    "            gradient_bias += (error * sigmoid_gradient(weighted_sum))\n",
    "            gradient_weight += (error * sigmoid_gradient(weighted_sum) * features[i])\n",
    "        weights = weights - (learning_rate * gradient_weight)/len(features)\n",
    "        bias = bias - (learning_rate * gradient_bias)/len(features)\n",
    "        mse = np.mean(((labels - np.array(probabilities)) ** 2))\n",
    "        mse_values.append(round(mse,4))\n",
    "    updated_weights = np.round(weights, 4)\n",
    "    updated_bias = round(bias, 4)\n",
    "    return updated_weights, updated_bias, mse_values\n",
    "train_neuron(features = np.array([[1.0, 2.0], [2.0, 1.0], [-1.0, -2.0]]), labels = np.array([1, 0, 0]), initial_weights = np.array([0.1, -0.2]), initial_bias = 0.0, learning_rate = 0.1, epochs = 2)"
   ]
  }
 ],
 "metadata": {
  "kernelspec": {
   "display_name": "Python 3 (ipykernel)",
   "language": "python",
   "name": "python3"
  },
  "language_info": {
   "codemirror_mode": {
    "name": "ipython",
    "version": 3
   },
   "file_extension": ".py",
   "mimetype": "text/x-python",
   "name": "python",
   "nbconvert_exporter": "python",
   "pygments_lexer": "ipython3",
   "version": "3.12.7"
  }
 },
 "nbformat": 4,
 "nbformat_minor": 5
}
