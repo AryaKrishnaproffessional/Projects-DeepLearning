{
 "cells": [
  {
   "cell_type": "markdown",
   "id": "9bdd6e76-bb02-4b5a-9fd5-573efd21ac4b",
   "metadata": {},
   "source": [
    "# Dense Layer implementation from scratch #"
   ]
  },
  {
   "cell_type": "code",
   "execution_count": 6,
   "id": "62e5bf06-285c-4a02-8c29-c74e0b371919",
   "metadata": {},
   "outputs": [
    {
     "name": "stdout",
     "output_type": "stream",
     "text": [
      "Forward pass output: [[ 0.10162127 -0.33551992 -0.64490545]]\n",
      "Backward pass output (dX): [[ 0.20816524 -0.22928937]]\n",
      "Updated W: [[-0.17842707  0.63540628  0.32508898]\n",
      " [ 0.13752417 -0.4904631  -0.49249721]]\n",
      "Updated w0: [-0.001 -0.002 -0.003]\n"
     ]
    }
   ],
   "source": [
    "import numpy as np\n",
    "import copy\n",
    "import math\n",
    "\n",
    "np.random.seed(42)\n",
    "\n",
    "class Layer(object):\n",
    "    def set_input_shape(self, shape):\n",
    "        self.input_shape = shape\n",
    "    \n",
    "    def layer_name(self):\n",
    "        return self.__class__.__name__\n",
    "    \n",
    "    def parameters(self):\n",
    "        return 0\n",
    "    \n",
    "    def forward_pass(self, X, training):\n",
    "        raise NotImplementedError()\n",
    "    \n",
    "    def backward_pass(self, accum_grad):\n",
    "        raise NotImplementedError()\n",
    "    \n",
    "    def output_shape(self):\n",
    "        raise NotImplementedError()\n",
    "\n",
    "class Dense(Layer):\n",
    "    def __init__(self, n_units, input_shape=None):\n",
    "        self.layer_input = None\n",
    "        self.input_shape = input_shape\n",
    "        self.n_units = n_units\n",
    "        self.trainable = True\n",
    "        self.W = None\n",
    "        self.w0 = None   \n",
    "    \n",
    "    def initialize(self, optimizer):\n",
    "        limit = 1 / math.sqrt(self.input_shape[0])\n",
    "        self.W = np.random.uniform(-limit,limit,(self.input_shape[0],self.n_units)) \n",
    "        self.w0 = np.zeros(self.n_units)   \n",
    "        self.W_opt = copy.deepcopy(optimizer)\n",
    "        self.w0_opt = copy.deepcopy(optimizer)\n",
    "    \n",
    "    def forward_pass(self, X):\n",
    "        self.layer_input = X\n",
    "        return X @ self.W + self.w0\n",
    "    \n",
    "    def backward_pass(self, accum_grad):\n",
    "        dX = accum_grad @ self.W.T\n",
    "        dW = self.layer_input.T @ accum_grad\n",
    "        dw0 = np.sum(accum_grad, axis = 0)\n",
    "        if self.trainable:\n",
    "            self.W = self.W_opt.update(self.W, dW)\n",
    "            self.w0 = self.w0_opt.update(self.w0, dw0)\n",
    "        return dX\n",
    "    \n",
    "    def output_shape(self):\n",
    "        return (self.n_units,)\n",
    "    def number_of_parameters():\n",
    "        return np.prod(self.W.shape) + np.prod(self.w0.shape)\n",
    "\n",
    "\n",
    "#Simple SGD optimiser for testing\n",
    "class SimpleOptimizer:\n",
    "    def update(self, weights, grad):\n",
    "        return weights - 0.01 * grad  \n",
    "\n",
    "dense = Dense(n_units=3, input_shape=(2,))\n",
    "dense.initialize(SimpleOptimizer())\n",
    "\n",
    "X = np.array([[1.0, 2.0]]) \n",
    "output = dense.forward_pass(X)\n",
    "print(\"Forward pass output:\", output)\n",
    "\n",
    "grad = np.array([[0.1, 0.2, 0.3]])  \n",
    "dX = dense.backward_pass(grad)\n",
    "print(\"Backward pass output (dX):\", dX)\n",
    "print(\"Updated W:\", dense.W)\n",
    "print(\"Updated w0:\", dense.w0)"
   ]
  },
  {
   "cell_type": "code",
   "execution_count": null,
   "id": "2390d590-0878-4d06-be5d-9c9226e4a14e",
   "metadata": {},
   "outputs": [],
   "source": []
  }
 ],
 "metadata": {
  "kernelspec": {
   "display_name": "Python 3 (ipykernel)",
   "language": "python",
   "name": "python3"
  },
  "language_info": {
   "codemirror_mode": {
    "name": "ipython",
    "version": 3
   },
   "file_extension": ".py",
   "mimetype": "text/x-python",
   "name": "python",
   "nbconvert_exporter": "python",
   "pygments_lexer": "ipython3",
   "version": "3.12.7"
  }
 },
 "nbformat": 4,
 "nbformat_minor": 5
}
